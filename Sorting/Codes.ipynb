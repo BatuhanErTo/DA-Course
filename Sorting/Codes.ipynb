{
 "cells": [
  {
   "cell_type": "code",
   "execution_count": 6,
   "id": "646824b7",
   "metadata": {},
   "outputs": [],
   "source": [
    "class SortingAlgorithms:\n",
    "    def bubbleSort(self,arr):\n",
    "        for i in range(len(arr)-1,0,-1):\n",
    "            for j in range(i):\n",
    "                if arr[j]>arr[j+1]:\n",
    "                    arr[j],arr[j+1] = arr[j+1],arr[j]\n",
    "        return arr\n",
    "    def selectionSort(self,arr):\n",
    "        for i in range(len(arr)-1):\n",
    "            minIndex = i\n",
    "            for j in range(i+1,len(arr)):\n",
    "                if arr[j] < arr[minIndex]:\n",
    "                    minIndex = j\n",
    "            if i != minIndex:\n",
    "                arr[i],arr[minIndex] = arr[minIndex],arr[i]\n",
    "        return arr\n",
    "    def insertionSort(self,arr):\n",
    "        for i in range(1,len(arr)):\n",
    "            key = arr[i]\n",
    "            j = i-1\n",
    "            while j>=0 and key<arr[j]:\n",
    "                arr[j+1] = arr[j]\n",
    "                j -= 1\n",
    "            arr[j+1] = key\n",
    "        return arr\n",
    "    def merge(self,arr1,arr2):\n",
    "        firstPointer = 0\n",
    "        secondPointer = 0\n",
    "        mergedArray = []\n",
    "        while firstPointer<len(arr1) and secondPointer<len(arr2):\n",
    "            if arr1[firstPointer]<arr2[secondPointer]:\n",
    "                mergedArray.append(arr1[firstPointer])\n",
    "                firstPointer+=1\n",
    "            else:\n",
    "                mergedArray.append(arr2[secondPointer])\n",
    "                secondPointer += 1\n",
    "        while firstPointer<len(arr1):\n",
    "            mergedArray.append(arr1[firstPointer])\n",
    "            firstPointer+=1\n",
    "        while secondPointer<len(arr2):\n",
    "            mergedArray.append(arr2[secondPointer])\n",
    "            secondPointer+=1\n",
    "        return mergedArray\n",
    "    def mergeSort(self,arr):\n",
    "        if len(arr) == 1:\n",
    "            return arr\n",
    "        midPoint = int(len(arr)/2)\n",
    "        leftSide = arr[:midPoint]\n",
    "        rightSide = arr[midPoint:]\n",
    "        return self.merge(self.mergeSort(leftSide),self.mergeSort(rightSide))"
   ]
  },
  {
   "cell_type": "code",
   "execution_count": 7,
   "id": "80db202a",
   "metadata": {},
   "outputs": [],
   "source": [
    "sorting = SortingAlgorithms()"
   ]
  },
  {
   "cell_type": "code",
   "execution_count": 8,
   "id": "5cb17964",
   "metadata": {},
   "outputs": [
    {
     "data": {
      "text/plain": [
       "[5, 6, 7, 11, 12, 13]"
      ]
     },
     "execution_count": 8,
     "metadata": {},
     "output_type": "execute_result"
    }
   ],
   "source": [
    "sorting.mergeSort([12, 11, 13, 5, 6, 7])"
   ]
  },
  {
   "cell_type": "code",
   "execution_count": null,
   "id": "0a794011",
   "metadata": {},
   "outputs": [],
   "source": []
  }
 ],
 "metadata": {
  "kernelspec": {
   "display_name": "Python 3 (ipykernel)",
   "language": "python",
   "name": "python3"
  },
  "language_info": {
   "codemirror_mode": {
    "name": "ipython",
    "version": 3
   },
   "file_extension": ".py",
   "mimetype": "text/x-python",
   "name": "python",
   "nbconvert_exporter": "python",
   "pygments_lexer": "ipython3",
   "version": "3.10.6"
  }
 },
 "nbformat": 4,
 "nbformat_minor": 5
}
