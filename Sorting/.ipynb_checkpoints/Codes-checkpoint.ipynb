{
 "cells": [
  {
   "cell_type": "code",
   "execution_count": 63,
   "id": "646824b7",
   "metadata": {},
   "outputs": [],
   "source": [
    "class SortingAlgorithms:\n",
    "    def bubbleSort(self,arr):\n",
    "        for i in range(len(arr)-1,0,-1):\n",
    "            for j in range(i):\n",
    "                if arr[j]>arr[j+1]:\n",
    "                    arr[j],arr[j+1] = arr[j+1],arr[j]\n",
    "        return arr\n",
    "    def selectionSort(self,arr):\n",
    "        for i in range(len(arr)-1):\n",
    "            minIndex = i\n",
    "            for j in range(i+1,len(arr)):\n",
    "                if arr[j] < arr[minIndex]:\n",
    "                    minIndex = j\n",
    "            if i != minIndex:\n",
    "                arr[i],arr[minIndex] = arr[minIndex],arr[i]\n",
    "        return arr\n",
    "    def insertionSort(self,arr):\n",
    "        for i in range(1,len(arr)):\n",
    "            key = arr[i]\n",
    "            j = i-1\n",
    "            while j>=0 and key<arr[j]:\n",
    "                arr[j+1] = arr[j]\n",
    "                j -= 1\n",
    "            arr[j+1] = key\n",
    "        return arr"
   ]
  },
  {
   "cell_type": "code",
   "execution_count": 64,
   "id": "80db202a",
   "metadata": {},
   "outputs": [],
   "source": [
    "sorting = SortingAlgorithms()"
   ]
  },
  {
   "cell_type": "code",
   "execution_count": 65,
   "id": "c577605e",
   "metadata": {},
   "outputs": [
    {
     "data": {
      "text/plain": [
       "[1, 1, 2, 3, 3, 3, 5, 7, 8, 9]"
      ]
     },
     "execution_count": 65,
     "metadata": {},
     "output_type": "execute_result"
    }
   ],
   "source": [
    "sorting.bubbleSort([5,1,2,3,3,7,3,9,1,8])"
   ]
  },
  {
   "cell_type": "code",
   "execution_count": 66,
   "id": "9ce3b5ce",
   "metadata": {},
   "outputs": [
    {
     "data": {
      "text/plain": [
       "[1, 1, 2, 3, 3, 3, 5, 7, 8, 9]"
      ]
     },
     "execution_count": 66,
     "metadata": {},
     "output_type": "execute_result"
    }
   ],
   "source": [
    "sorting.selectionSort([5,1,2,3,3,7,3,9,1,8])"
   ]
  },
  {
   "cell_type": "code",
   "execution_count": 68,
   "id": "cd2ac3af",
   "metadata": {},
   "outputs": [
    {
     "data": {
      "text/plain": [
       "[1, 1, 2, 3, 3, 3, 5, 7, 8, 9]"
      ]
     },
     "execution_count": 68,
     "metadata": {},
     "output_type": "execute_result"
    }
   ],
   "source": [
    "sorting.insertionSort([5,1,2,3,3,7,3,9,1,8])"
   ]
  },
  {
   "cell_type": "code",
   "execution_count": null,
   "id": "8dbad78e",
   "metadata": {},
   "outputs": [],
   "source": []
  },
  {
   "cell_type": "code",
   "execution_count": null,
   "id": "b896f62f",
   "metadata": {},
   "outputs": [],
   "source": []
  },
  {
   "cell_type": "code",
   "execution_count": null,
   "id": "bb9d816e",
   "metadata": {},
   "outputs": [],
   "source": []
  }
 ],
 "metadata": {
  "kernelspec": {
   "display_name": "Python 3 (ipykernel)",
   "language": "python",
   "name": "python3"
  },
  "language_info": {
   "codemirror_mode": {
    "name": "ipython",
    "version": 3
   },
   "file_extension": ".py",
   "mimetype": "text/x-python",
   "name": "python",
   "nbconvert_exporter": "python",
   "pygments_lexer": "ipython3",
   "version": "3.10.6"
  }
 },
 "nbformat": 4,
 "nbformat_minor": 5
}
