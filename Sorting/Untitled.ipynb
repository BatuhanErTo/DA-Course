{
 "cells": [
  {
   "cell_type": "code",
   "execution_count": 63,
   "id": "646824b7",
   "metadata": {},
   "outputs": [],
   "source": [
    "class SortingAlgorithms:\n",
    "    def bubbleSort(self,arr):\n",
    "        for i in range(len(arr)-1,0,-1):\n",
    "            for j in range(i):\n",
    "                if arr[j]>arr[j+1]:\n",
    "                    arr[j],arr[j+1] = arr[j+1],arr[j]\n",
    "        return arr\n",
    "    def selectionSort(self,arr):\n",
    "        for i in range(len(arr)-1):\n",
    "            minIndex = i\n",
    "            for j in range(i+1,len(arr)):\n",
    "                if arr[j] < arr[minIndex]:\n",
    "                    minIndex = j\n",
    "            if i != minIndex:\n",
    "                arr[i],arr[minIndex] = arr[minIndex],arr[i]\n",
    "        return arr\n",
    "    def insertionSort(self,arr):\n",
    "        for i in range(1,len(arr)):\n",
    "            key = arr[i]\n",
    "            j = i-1\n",
    "            while j>=0 and arr[key]<arr[j]:\n",
    "                arr[j+1] = arr[j]\n",
    "                j -= 1\n",
    "            arr[j+1] = key\n",
    "        return arr"
   ]
  },
  {
   "cell_type": "code",
   "execution_count": 64,
   "id": "80db202a",
   "metadata": {},
   "outputs": [],
   "source": [
    "sorting = SortingAlgorithms()"
   ]
  },
  {
   "cell_type": "code",
   "execution_count": 65,
   "id": "c577605e",
   "metadata": {},
   "outputs": [
    {
     "data": {
      "text/plain": [
       "[1, 1, 2, 3, 3, 3, 5, 7, 8, 9]"
      ]
     },
     "execution_count": 65,
     "metadata": {},
     "output_type": "execute_result"
    }
   ],
   "source": [
    "sorting.bubbleSort([5,1,2,3,3,7,3,9,1,8])"
   ]
  },
  {
   "cell_type": "code",
   "execution_count": 66,
   "id": "9ce3b5ce",
   "metadata": {},
   "outputs": [
    {
     "data": {
      "text/plain": [
       "[1, 1, 2, 3, 3, 3, 5, 7, 8, 9]"
      ]
     },
     "execution_count": 66,
     "metadata": {},
     "output_type": "execute_result"
    }
   ],
   "source": [
    "sorting.selectionSort([5,1,2,3,3,7,3,9,1,8])"
   ]
  },
  {
   "cell_type": "code",
   "execution_count": 62,
   "id": "cd2ac3af",
   "metadata": {},
   "outputs": [
    {
     "name": "stdout",
     "output_type": "stream",
     "text": [
      "1\n",
      "2\n"
     ]
    },
    {
     "ename": "IndexError",
     "evalue": "list index out of range",
     "output_type": "error",
     "traceback": [
      "\u001b[1;31m---------------------------------------------------------------------------\u001b[0m",
      "\u001b[1;31mIndexError\u001b[0m                                Traceback (most recent call last)",
      "Input \u001b[1;32mIn [62]\u001b[0m, in \u001b[0;36m<cell line: 1>\u001b[1;34m()\u001b[0m\n\u001b[1;32m----> 1\u001b[0m \u001b[43msorting\u001b[49m\u001b[38;5;241;43m.\u001b[39;49m\u001b[43minsertionSort\u001b[49m\u001b[43m(\u001b[49m\u001b[43m[\u001b[49m\u001b[38;5;241;43m5\u001b[39;49m\u001b[43m,\u001b[49m\u001b[38;5;241;43m2\u001b[39;49m\u001b[43m,\u001b[49m\u001b[38;5;241;43m7\u001b[39;49m\u001b[43m,\u001b[49m\u001b[38;5;241;43m3\u001b[39;49m\u001b[43m,\u001b[49m\u001b[38;5;241;43m9\u001b[39;49m\u001b[43m,\u001b[49m\u001b[38;5;241;43m1\u001b[39;49m\u001b[43m,\u001b[49m\u001b[38;5;241;43m8\u001b[39;49m\u001b[43m]\u001b[49m\u001b[43m)\u001b[49m\n",
      "Input \u001b[1;32mIn [57]\u001b[0m, in \u001b[0;36mSortingAlgorithms.insertionSort\u001b[1;34m(self, arr)\u001b[0m\n\u001b[0;32m     20\u001b[0m key \u001b[38;5;241m=\u001b[39m arr[i]\n\u001b[0;32m     21\u001b[0m j \u001b[38;5;241m=\u001b[39m i\u001b[38;5;241m-\u001b[39m\u001b[38;5;241m1\u001b[39m\n\u001b[1;32m---> 22\u001b[0m \u001b[38;5;28;01mwhile\u001b[39;00m j\u001b[38;5;241m>\u001b[39m\u001b[38;5;241m=\u001b[39m\u001b[38;5;241m0\u001b[39m \u001b[38;5;129;01mand\u001b[39;00m \u001b[43marr\u001b[49m\u001b[43m[\u001b[49m\u001b[43mkey\u001b[49m\u001b[43m]\u001b[49m\u001b[38;5;241m<\u001b[39marr[j]:\n\u001b[0;32m     23\u001b[0m     arr[j\u001b[38;5;241m+\u001b[39m\u001b[38;5;241m1\u001b[39m] \u001b[38;5;241m=\u001b[39m arr[j]\n\u001b[0;32m     24\u001b[0m     j \u001b[38;5;241m-\u001b[39m\u001b[38;5;241m=\u001b[39m \u001b[38;5;241m1\u001b[39m\n",
      "\u001b[1;31mIndexError\u001b[0m: list index out of range"
     ]
    }
   ],
   "source": [
    "sorting.insertionSort([5,2,7,3,9,1,8])"
   ]
  },
  {
   "cell_type": "code",
   "execution_count": null,
   "id": "8dbad78e",
   "metadata": {},
   "outputs": [],
   "source": []
  },
  {
   "cell_type": "code",
   "execution_count": null,
   "id": "b896f62f",
   "metadata": {},
   "outputs": [],
   "source": []
  },
  {
   "cell_type": "code",
   "execution_count": null,
   "id": "bb9d816e",
   "metadata": {},
   "outputs": [],
   "source": []
  }
 ],
 "metadata": {
  "kernelspec": {
   "display_name": "Python 3 (ipykernel)",
   "language": "python",
   "name": "python3"
  },
  "language_info": {
   "codemirror_mode": {
    "name": "ipython",
    "version": 3
   },
   "file_extension": ".py",
   "mimetype": "text/x-python",
   "name": "python",
   "nbconvert_exporter": "python",
   "pygments_lexer": "ipython3",
   "version": "3.10.6"
  }
 },
 "nbformat": 4,
 "nbformat_minor": 5
}
